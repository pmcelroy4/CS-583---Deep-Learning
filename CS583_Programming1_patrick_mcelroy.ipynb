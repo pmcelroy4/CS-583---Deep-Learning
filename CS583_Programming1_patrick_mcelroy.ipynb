{
 "cells": [
  {
   "cell_type": "markdown",
   "metadata": {},
   "source": [
    "# Programming Assignment: Numerical Optimization for Logistic Regression.\n",
    "\n",
    "### Name: Patrick McElroy\n"
   ]
  },
  {
   "cell_type": "markdown",
   "metadata": {},
   "source": [
    "## 0. You will do the following:\n",
    "\n",
    "1. Read the lecture note: [click here](https://github.com/wangshusen/DeepLearning/blob/master/LectureNotes/Logistic/paper/logistic.pdf)\n",
    "\n",
    "2. Read, complete, and run my code.\n",
    "\n",
    "3. **Implement mini-batch SGD** and evaluate the performance.\n",
    "\n",
    "4. Convert the .IPYNB file to .HTML file.\n",
    "\n",
    "    * The HTML file must contain **the code** and **the output after execution**.\n",
    "    \n",
    "    * Missing **the output after execution** will not be graded.\n",
    "    \n",
    "    \n",
    "5. Upload this .HTML file to your Google Drive, Dropbox, or your Github repo.  (If you submit the file to Google Drive or Dropbox, you must make the file \"open-access\". The delay caused by \"deny of access\" may result in late penalty.)\n",
    "\n",
    "6. On Canvas, submit the Google Drive/Dropbox/Github link to the HTML file.\n",
    "\n",
    "\n",
    "## Grading criteria:\n",
    "\n",
    "1. When computing the ```gradient``` and ```objective function value``` using a batch of samples, use **matrix-vector multiplication** rather than a FOR LOOP of **vector-vector multiplications**.\n",
    "\n",
    "2. Plot ```objective function value``` against ```epochs```. In the plot, compare GD, SGD, and MB-SGD (with $b=8$ and $b=64$). The plot must look reasonable."
   ]
  },
  {
   "cell_type": "markdown",
   "metadata": {},
   "source": [
    "# 1. Data processing\n",
    "\n",
    "- Download the Diabete dataset from https://www.csie.ntu.edu.tw/~cjlin/libsvmtools/datasets/binary/diabetes\n",
    "- Load the data using sklearn.\n",
    "- Preprocess the data."
   ]
  },
  {
   "cell_type": "markdown",
   "metadata": {},
   "source": [
    "## 1.1. Load the data"
   ]
  },
  {
   "cell_type": "code",
   "execution_count": 1,
   "metadata": {},
   "outputs": [
    {
     "name": "stdout",
     "output_type": "stream",
     "text": [
      "Shape of x: (768, 8)\n",
      "Shape of y: (768,)\n"
     ]
    }
   ],
   "source": [
    "from sklearn import datasets\n",
    "import numpy\n",
    "\n",
    "x_sparse, y = datasets.load_svmlight_file('diabetes')\n",
    "x = x_sparse.todense()\n",
    "\n",
    "print('Shape of x: ' + str(x.shape))\n",
    "print('Shape of y: ' + str(y.shape))"
   ]
  },
  {
   "cell_type": "markdown",
   "metadata": {},
   "source": [
    "## 1.2. Partition to training and test sets"
   ]
  },
  {
   "cell_type": "code",
   "execution_count": 2,
   "metadata": {},
   "outputs": [
    {
     "name": "stdout",
     "output_type": "stream",
     "text": [
      "Shape of x_train: (640, 8)\n",
      "Shape of x_test: (128, 8)\n",
      "Shape of y_train: (640, 1)\n",
      "Shape of y_test: (128, 1)\n"
     ]
    }
   ],
   "source": [
    "# partition the data to training and test sets\n",
    "n = x.shape[0]\n",
    "n_train = 640\n",
    "n_test = n - n_train\n",
    "\n",
    "rand_indices = numpy.random.permutation(n)\n",
    "train_indices = rand_indices[0:n_train]\n",
    "test_indices = rand_indices[n_train:n]\n",
    "\n",
    "x_train = x[train_indices, :]\n",
    "x_test = x[test_indices, :]\n",
    "y_train = y[train_indices].reshape(n_train, 1)\n",
    "y_test = y[test_indices].reshape(n_test, 1)\n",
    "\n",
    "print('Shape of x_train: ' + str(x_train.shape))\n",
    "print('Shape of x_test: ' + str(x_test.shape))\n",
    "print('Shape of y_train: ' + str(y_train.shape))\n",
    "print('Shape of y_test: ' + str(y_test.shape))"
   ]
  },
  {
   "cell_type": "markdown",
   "metadata": {},
   "source": [
    "## 1.3. Feature scaling"
   ]
  },
  {
   "cell_type": "markdown",
   "metadata": {},
   "source": [
    "Use the standardization to trainsform both training and test features"
   ]
  },
  {
   "cell_type": "code",
   "execution_count": 3,
   "metadata": {},
   "outputs": [
    {
     "name": "stdout",
     "output_type": "stream",
     "text": [
      "test mean = \n",
      "[[-0.00599541  0.10296495  0.07376054 -0.00799246 -0.051354    0.13373836\n",
      "  -0.0945181  -0.09547645]]\n",
      "test std = \n",
      "[[0.9628841  0.98566038 1.02474746 0.96622272 0.97528369 1.25004337\n",
      "  0.99464311 0.88496054]]\n"
     ]
    }
   ],
   "source": [
    "# Standardization\n",
    "import numpy\n",
    "\n",
    "# calculate mu and sig using the training set\n",
    "d = x_train.shape[1]\n",
    "mu = numpy.mean(x_train, axis=0).reshape(1, d)\n",
    "sig = numpy.std(x_train, axis=0).reshape(1, d)\n",
    "\n",
    "# transform the training features\n",
    "x_train = (x_train - mu) / (sig + 1E-6)\n",
    "\n",
    "# transform the test features\n",
    "x_test = (x_test - mu) / (sig + 1E-6)\n",
    "\n",
    "print('test mean = ')\n",
    "print(numpy.mean(x_test, axis=0))\n",
    "\n",
    "print('test std = ')\n",
    "print(numpy.std(x_test, axis=0))"
   ]
  },
  {
   "cell_type": "markdown",
   "metadata": {},
   "source": [
    "## 1.4. Add a dimension of all ones"
   ]
  },
  {
   "cell_type": "code",
   "execution_count": 4,
   "metadata": {},
   "outputs": [
    {
     "name": "stdout",
     "output_type": "stream",
     "text": [
      "Shape of x_train: (640, 9)\n",
      "Shape of x_test: (128, 9)\n"
     ]
    }
   ],
   "source": [
    "n_train, d = x_train.shape\n",
    "x_train = numpy.concatenate((x_train, numpy.ones((n_train, 1))), axis=1)\n",
    "\n",
    "n_test, d = x_test.shape\n",
    "x_test = numpy.concatenate((x_test, numpy.ones((n_test, 1))), axis=1)\n",
    "\n",
    "print('Shape of x_train: ' + str(x_train.shape))\n",
    "print('Shape of x_test: ' + str(x_test.shape))"
   ]
  },
  {
   "cell_type": "markdown",
   "metadata": {},
   "source": [
    "# 2. Logistic regression model\n",
    "\n",
    "The objective function is $Q (w; X, y) = \\frac{1}{n} \\sum_{i=1}^n \\log \\Big( 1 + \\exp \\big( - y_i x_i^T w \\big) \\Big) + \\frac{\\lambda}{2} \\| w \\|_2^2 $."
   ]
  },
  {
   "cell_type": "code",
   "execution_count": 5,
   "metadata": {},
   "outputs": [],
   "source": [
    "# Calculate the objective function value\n",
    "# Inputs:\n",
    "#     w: d-by-1 matrix\n",
    "#     x: n-by-d matrix\n",
    "#     y: n-by-1 matrix\n",
    "#     lam: scalar, the regularization parameter\n",
    "# Return:\n",
    "#     objective function value (scalar)\n",
    "def objective(w, x, y, lam):\n",
    "    n, d = x.shape\n",
    "    yx = numpy.multiply(y, x) # n-by-d matrix\n",
    "    yxw = numpy.dot(yx, w) # n-by-1 matrix\n",
    "    vec1 = numpy.exp(-yxw) # n-by-1 matrix\n",
    "    vec2 = numpy.log(1 + vec1) # n-by-1 matrix\n",
    "    loss = numpy.mean(vec2) # scalar\n",
    "    reg = lam / 2 * numpy.sum(w * w) # scalar\n",
    "    return loss + reg\n",
    "    "
   ]
  },
  {
   "cell_type": "code",
   "execution_count": 6,
   "metadata": {},
   "outputs": [
    {
     "name": "stdout",
     "output_type": "stream",
     "text": [
      "Initial objective function value = 0.6931471805599453\n"
     ]
    }
   ],
   "source": [
    "# initialize w\n",
    "d = x_train.shape[1]\n",
    "w = numpy.zeros((d, 1))\n",
    "\n",
    "# evaluate the objective function value at w\n",
    "lam = 1E-6\n",
    "objval0 = objective(w, x_train, y_train, lam)\n",
    "print('Initial objective function value = ' + str(objval0))"
   ]
  },
  {
   "cell_type": "markdown",
   "metadata": {},
   "source": [
    "# 3. Numerical optimization"
   ]
  },
  {
   "cell_type": "markdown",
   "metadata": {},
   "source": [
    "## 3.1. Gradient descent\n"
   ]
  },
  {
   "cell_type": "markdown",
   "metadata": {},
   "source": [
    "The gradient at $w$ is $g = - \\frac{1}{n} \\sum_{i=1}^n \\frac{y_i x_i }{1 + \\exp ( y_i x_i^T w)} + \\lambda w$"
   ]
  },
  {
   "cell_type": "code",
   "execution_count": 7,
   "metadata": {},
   "outputs": [],
   "source": [
    "# Calculate the gradient\n",
    "# Inputs:\n",
    "#     w: d-by-1 matrix\n",
    "#     x: n-by-d matrix\n",
    "#     y: n-by-1 matrix\n",
    "#     lam: scalar, the regularization parameter\n",
    "# Return:\n",
    "#     g: g: d-by-1 matrix, full gradient\n",
    "def gradient(w, x, y, lam):\n",
    "    n, d = x.shape\n",
    "    yx = numpy.multiply(y, x) # n-by-d matrix\n",
    "    yxw = numpy.dot(yx, w) # n-by-1 matrix\n",
    "    vec1 = numpy.exp(yxw) # n-by-1 matrix\n",
    "    vec2 = numpy.divide(yx, 1+vec1) # n-by-d matrix\n",
    "    vec3 = -numpy.mean(vec2, axis=0).reshape(d, 1) # d-by-1 matrix\n",
    "    g = vec3 + lam * w\n",
    "    return g"
   ]
  },
  {
   "cell_type": "code",
   "execution_count": 8,
   "metadata": {},
   "outputs": [],
   "source": [
    "# Gradient descent for solving logistic regression\n",
    "# Inputs:\n",
    "#     x: n-by-d matrix\n",
    "#     y: n-by-1 matrix\n",
    "#     lam: scalar, the regularization parameter\n",
    "#     stepsize: scalar\n",
    "#     max_iter: integer, the maximal iterations\n",
    "#     w: d-by-1 matrix, initialization of w\n",
    "# Return:\n",
    "#     w: d-by-1 matrix, the solution\n",
    "#     objvals: a record of each iteration's objective value\n",
    "def grad_descent(x, y, lam, stepsize, max_iter=100, w=None):\n",
    "    n, d = x.shape\n",
    "    objvals = numpy.zeros(max_iter) # store the objective values\n",
    "    if w is None:\n",
    "        w = numpy.zeros((d, 1)) # zero initialization\n",
    "    \n",
    "    for t in range(max_iter):\n",
    "        objval = objective(w, x, y, lam)\n",
    "        objvals[t] = objval\n",
    "        print('Objective value at t=' + str(t) + ' is ' + str(objval))\n",
    "        g = gradient(w, x, y, lam)\n",
    "        w -= stepsize * g\n",
    "    \n",
    "    return w, objvals"
   ]
  },
  {
   "cell_type": "markdown",
   "metadata": {},
   "source": [
    "Run gradient descent."
   ]
  },
  {
   "cell_type": "code",
   "execution_count": 9,
   "metadata": {},
   "outputs": [
    {
     "name": "stdout",
     "output_type": "stream",
     "text": [
      "Objective value at t=0 is 0.6931471805599453\n",
      "Objective value at t=1 is 0.5922701239938676\n",
      "Objective value at t=2 is 0.5516574993766536\n",
      "Objective value at t=3 is 0.5298151883991683\n",
      "Objective value at t=4 is 0.5162047191628261\n",
      "Objective value at t=5 is 0.5070304903352655\n",
      "Objective value at t=6 is 0.5005452977126938\n",
      "Objective value at t=7 is 0.495811791061679\n",
      "Objective value at t=8 is 0.49227500639135063\n",
      "Objective value at t=9 is 0.4895839596160494\n",
      "Objective value at t=10 is 0.4875061327707786\n",
      "Objective value at t=11 is 0.4858820972351355\n",
      "Objective value at t=12 is 0.4845995659642332\n",
      "Objective value at t=13 is 0.483577709337527\n",
      "Objective value at t=14 is 0.48275726691602305\n",
      "Objective value at t=15 is 0.4820941037703338\n",
      "Objective value at t=16 is 0.48155489707971194\n",
      "Objective value at t=17 is 0.4811141828026301\n",
      "Objective value at t=18 is 0.48075229378908607\n",
      "Objective value at t=19 is 0.48045389535588895\n",
      "Objective value at t=20 is 0.48020692914884494\n",
      "Objective value at t=21 is 0.48000184086990383\n",
      "Objective value at t=22 is 0.4798310084545187\n",
      "Objective value at t=23 is 0.479688313811323\n",
      "Objective value at t=24 is 0.4795688187207765\n",
      "Objective value at t=25 is 0.47946851720965017\n",
      "Objective value at t=26 is 0.4793841446958778\n",
      "Objective value at t=27 is 0.4793130297056474\n",
      "Objective value at t=28 is 0.47925297781661486\n",
      "Objective value at t=29 is 0.47920218020838623\n",
      "Objective value at t=30 is 0.4791591411544598\n",
      "Objective value at t=31 is 0.4791226202034614\n",
      "Objective value at t=32 is 0.4790915858310404\n",
      "Objective value at t=33 is 0.4790651781065649\n",
      "Objective value at t=34 is 0.4790426784867392\n",
      "Objective value at t=35 is 0.4790234852747153\n",
      "Objective value at t=36 is 0.4790070936060137\n",
      "Objective value at t=37 is 0.47899307906860367\n",
      "Objective value at t=38 is 0.47898108425339264\n",
      "Objective value at t=39 is 0.47897080767732836\n",
      "Objective value at t=40 is 0.47896199463481764\n",
      "Objective value at t=41 is 0.4789544296219124\n",
      "Objective value at t=42 is 0.4789479300475059\n",
      "Objective value at t=43 is 0.47894234100094124\n",
      "Objective value at t=44 is 0.47893753088923896\n",
      "Objective value at t=45 is 0.478933387792097\n",
      "Objective value at t=46 is 0.47892981641081817\n",
      "Objective value at t=47 is 0.47892673550984216\n",
      "Objective value at t=48 is 0.478924075767743\n",
      "Objective value at t=49 is 0.4789217779692941\n",
      "Objective value at t=50 is 0.47891979148217506\n",
      "Objective value at t=51 is 0.47891807297167227\n",
      "Objective value at t=52 is 0.47891658531471043\n",
      "Objective value at t=53 is 0.4789152966811108\n",
      "Objective value at t=54 is 0.4789141797553574\n",
      "Objective value at t=55 is 0.4789132110765998\n",
      "Objective value at t=56 is 0.4789123704782873\n",
      "Objective value at t=57 is 0.4789116406118735\n",
      "Objective value at t=58 is 0.4789110065415482\n",
      "Objective value at t=59 is 0.47891045539905325\n",
      "Objective value at t=60 is 0.47890997608938285\n",
      "Objective value at t=61 is 0.4789095590396296\n",
      "Objective value at t=62 is 0.4789091959844485\n",
      "Objective value at t=63 is 0.47890887978263863\n",
      "Objective value at t=64 is 0.47890860426018955\n",
      "Objective value at t=65 is 0.47890836407585996\n",
      "Objective value at t=66 is 0.4789081546059581\n",
      "Objective value at t=67 is 0.47890797184550193\n",
      "Objective value at t=68 is 0.47890781232336266\n",
      "Objective value at t=69 is 0.47890767302935716\n",
      "Objective value at t=70 is 0.4789075513515598\n",
      "Objective value at t=71 is 0.4789074450223624\n",
      "Objective value at t=72 is 0.4789073520720253\n",
      "Objective value at t=73 is 0.4789072707886552\n",
      "Objective value at t=74 is 0.47890719968369233\n",
      "Objective value at t=75 is 0.47890713746213226\n",
      "Objective value at t=76 is 0.4789070829968131\n",
      "Objective value at t=77 is 0.47890703530620055\n",
      "Objective value at t=78 is 0.47890699353518185\n",
      "Objective value at t=79 is 0.47890695693845087\n",
      "Objective value at t=80 is 0.47890692486612724\n",
      "Objective value at t=81 is 0.4789068967512993\n",
      "Objective value at t=82 is 0.47890687209923105\n",
      "Objective value at t=83 is 0.47890685047800036\n",
      "Objective value at t=84 is 0.4789068315103797\n",
      "Objective value at t=85 is 0.4789068148667869\n",
      "Objective value at t=86 is 0.47890680025916266\n",
      "Objective value at t=87 is 0.47890678743565124\n",
      "Objective value at t=88 is 0.4789067761759746\n",
      "Objective value at t=89 is 0.47890676628741025\n",
      "Objective value at t=90 is 0.47890675760129015\n",
      "Objective value at t=91 is 0.4789067499699521\n",
      "Objective value at t=92 is 0.47890674326408544\n",
      "Objective value at t=93 is 0.4789067373704178\n",
      "Objective value at t=94 is 0.4789067321896966\n",
      "Objective value at t=95 is 0.4789067276349318\n",
      "Objective value at t=96 is 0.47890672362986003\n",
      "Objective value at t=97 is 0.47890672010760466\n",
      "Objective value at t=98 is 0.4789067170095066\n",
      "Objective value at t=99 is 0.4789067142841022\n"
     ]
    }
   ],
   "source": [
    "lam = 1E-6\n",
    "stepsize = 1.0\n",
    "w, objvals_gd = grad_descent(x_train, y_train, lam, stepsize)"
   ]
  },
  {
   "cell_type": "markdown",
   "metadata": {},
   "source": [
    "## 3.2. Stochastic gradient descent (SGD)\n",
    "\n",
    "Define $Q_i (w) = \\log \\Big( 1 + \\exp \\big( - y_i x_i^T w \\big) \\Big) + \\frac{\\lambda}{2} \\| w \\|_2^2 $.\n",
    "\n",
    "The stochastic gradient at $w$ is $g_i = \\frac{\\partial Q_i }{ \\partial w} = -\\frac{y_i x_i }{1 + \\exp ( y_i x_i^T w)} + \\lambda w$."
   ]
  },
  {
   "cell_type": "code",
   "execution_count": 10,
   "metadata": {},
   "outputs": [],
   "source": [
    "# Calculate the objective Q_i and the gradient of Q_i\n",
    "# Inputs:\n",
    "#     w: d-by-1 matrix\n",
    "#     xi: 1-by-d matrix\n",
    "#     yi: scalar\n",
    "#     lam: scalar, the regularization parameter\n",
    "# Return:\n",
    "#     obj: scalar, the objective Q_i\n",
    "#     g: d-by-1 matrix, gradient of Q_i\n",
    "def stochastic_objective_gradient(w, xi, yi, lam):\n",
    "    yx = yi * xi # 1-by-d matrix\n",
    "    yxw = float(numpy.dot(yx, w)) # scalar\n",
    "    \n",
    "    # calculate objective function Q_i\n",
    "    loss = numpy.log(1 + numpy.exp(-yxw)) # scalar\n",
    "    reg = lam / 2 * numpy.sum(w * w) # scalar\n",
    "    obj = loss + reg\n",
    "    \n",
    "    # calculate stochastic gradient\n",
    "    g_loss = -yx.T / (1 + numpy.exp(yxw)) # d-by-1 matrix\n",
    "    g = g_loss + lam * w # d-by-1 matrix\n",
    "    \n",
    "    return obj, g"
   ]
  },
  {
   "cell_type": "code",
   "execution_count": 11,
   "metadata": {},
   "outputs": [],
   "source": [
    "# SGD for solving logistic regression\n",
    "# Inputs:\n",
    "#     x: n-by-d matrix\n",
    "#     y: n-by-1 matrix\n",
    "#     lam: scalar, the regularization parameter\n",
    "#     stepsize: scalar\n",
    "#     max_epoch: integer, the maximal epochs\n",
    "#     w: d-by-1 matrix, initialization of w\n",
    "# Return:\n",
    "#     w: the solution\n",
    "#     objvals: record of each iteration's objective value\n",
    "def sgd(x, y, lam, stepsize, max_epoch=100, w=None):\n",
    "    n, d = x.shape\n",
    "    objvals = numpy.zeros(max_epoch) # store the objective values\n",
    "    if w is None:\n",
    "        w = numpy.zeros((d, 1)) # zero initialization\n",
    "    \n",
    "    for t in range(max_epoch):\n",
    "        # randomly shuffle the samples\n",
    "        rand_indices = numpy.random.permutation(n)\n",
    "        x_rand = x[rand_indices, :]\n",
    "        y_rand = y[rand_indices, :]\n",
    "        \n",
    "        objval = 0 # accumulate the objective values\n",
    "        for i in range(n):\n",
    "            xi = x_rand[i, :] # 1-by-d matrix\n",
    "            yi = float(y_rand[i, :]) # scalar\n",
    "            obj, g = stochastic_objective_gradient(w, xi, yi, lam)\n",
    "            objval += obj\n",
    "            w -= stepsize * g\n",
    "        \n",
    "        stepsize *= 0.9 # decrease step size\n",
    "        objval /= n\n",
    "        objvals[t] = objval\n",
    "        print('Objective value at epoch t=' + str(t) + ' is ' + str(objval))\n",
    "    \n",
    "    return w, objvals"
   ]
  },
  {
   "cell_type": "markdown",
   "metadata": {},
   "source": [
    "Run SGD."
   ]
  },
  {
   "cell_type": "code",
   "execution_count": 12,
   "metadata": {},
   "outputs": [
    {
     "name": "stdout",
     "output_type": "stream",
     "text": [
      "Objective value at epoch t=0 is 0.5396569142946749\n",
      "Objective value at epoch t=1 is 0.5288985314098469\n",
      "Objective value at epoch t=2 is 0.5227946542179667\n",
      "Objective value at epoch t=3 is 0.5195382832974147\n",
      "Objective value at epoch t=4 is 0.5190626516850609\n",
      "Objective value at epoch t=5 is 0.5095167573896859\n",
      "Objective value at epoch t=6 is 0.5106542208324353\n",
      "Objective value at epoch t=7 is 0.5089474640503482\n",
      "Objective value at epoch t=8 is 0.49855343680454745\n",
      "Objective value at epoch t=9 is 0.5035751979491878\n",
      "Objective value at epoch t=10 is 0.5011329430180252\n",
      "Objective value at epoch t=11 is 0.4983961933379485\n",
      "Objective value at epoch t=12 is 0.49296334349212945\n",
      "Objective value at epoch t=13 is 0.4921762287419577\n",
      "Objective value at epoch t=14 is 0.4899505496136056\n",
      "Objective value at epoch t=15 is 0.4913101881953816\n",
      "Objective value at epoch t=16 is 0.4897677315696935\n",
      "Objective value at epoch t=17 is 0.48996743536526066\n",
      "Objective value at epoch t=18 is 0.48921599239058633\n",
      "Objective value at epoch t=19 is 0.4880189984958795\n",
      "Objective value at epoch t=20 is 0.48742216720874704\n",
      "Objective value at epoch t=21 is 0.48679157970855397\n",
      "Objective value at epoch t=22 is 0.4853348090747039\n",
      "Objective value at epoch t=23 is 0.485374600524034\n",
      "Objective value at epoch t=24 is 0.4841594880128299\n",
      "Objective value at epoch t=25 is 0.4833174212946786\n",
      "Objective value at epoch t=26 is 0.4838503705286363\n",
      "Objective value at epoch t=27 is 0.48317215655923923\n",
      "Objective value at epoch t=28 is 0.48171265803510055\n",
      "Objective value at epoch t=29 is 0.4825617504220099\n",
      "Objective value at epoch t=30 is 0.48208371171163245\n",
      "Objective value at epoch t=31 is 0.48156501634099536\n",
      "Objective value at epoch t=32 is 0.4813985010781826\n",
      "Objective value at epoch t=33 is 0.4811260201010549\n",
      "Objective value at epoch t=34 is 0.4809490165102499\n",
      "Objective value at epoch t=35 is 0.4807164008208177\n",
      "Objective value at epoch t=36 is 0.480632576452155\n",
      "Objective value at epoch t=37 is 0.4804509271688836\n",
      "Objective value at epoch t=38 is 0.48022771416921756\n",
      "Objective value at epoch t=39 is 0.4801183687411168\n",
      "Objective value at epoch t=40 is 0.48003267747671485\n",
      "Objective value at epoch t=41 is 0.47991387700858407\n",
      "Objective value at epoch t=42 is 0.47981793120904276\n",
      "Objective value at epoch t=43 is 0.4797266594240144\n",
      "Objective value at epoch t=44 is 0.47963061883040126\n",
      "Objective value at epoch t=45 is 0.4795704013347832\n",
      "Objective value at epoch t=46 is 0.47950043886944965\n",
      "Objective value at epoch t=47 is 0.479433172140205\n",
      "Objective value at epoch t=48 is 0.47939379651910663\n",
      "Objective value at epoch t=49 is 0.479343522692806\n",
      "Objective value at epoch t=50 is 0.47930200866553846\n",
      "Objective value at epoch t=51 is 0.4792619486103475\n",
      "Objective value at epoch t=52 is 0.4792286142050215\n",
      "Objective value at epoch t=53 is 0.47919468319856967\n",
      "Objective value at epoch t=54 is 0.479166280830657\n",
      "Objective value at epoch t=55 is 0.4791414148103824\n",
      "Objective value at epoch t=56 is 0.4791179918904513\n",
      "Objective value at epoch t=57 is 0.47909672349670157\n",
      "Objective value at epoch t=58 is 0.4790779605547725\n",
      "Objective value at epoch t=59 is 0.4790610002511898\n",
      "Objective value at epoch t=60 is 0.47904545763897177\n",
      "Objective value at epoch t=61 is 0.4790316345440483\n",
      "Objective value at epoch t=62 is 0.4790192898141867\n",
      "Objective value at epoch t=63 is 0.479008061283268\n",
      "Objective value at epoch t=64 is 0.4789981337613745\n",
      "Objective value at epoch t=65 is 0.4789889746653576\n",
      "Objective value at epoch t=66 is 0.4789807781527867\n",
      "Objective value at epoch t=67 is 0.47897348224173336\n",
      "Objective value at epoch t=68 is 0.47896685349645696\n",
      "Objective value at epoch t=69 is 0.4789609049977776\n",
      "Objective value at epoch t=70 is 0.47895555267864076\n",
      "Objective value at epoch t=71 is 0.4789507230588653\n",
      "Objective value at epoch t=72 is 0.4789463624586097\n",
      "Objective value at epoch t=73 is 0.47894242983238816\n",
      "Objective value at epoch t=74 is 0.4789389123352724\n",
      "Objective value at epoch t=75 is 0.4789357561547612\n",
      "Objective value at epoch t=76 is 0.47893289979275194\n",
      "Objective value at epoch t=77 is 0.47893033143651553\n",
      "Objective value at epoch t=78 is 0.47892801448195\n",
      "Objective value at epoch t=79 is 0.4789259425606425\n",
      "Objective value at epoch t=80 is 0.47892406256377784\n",
      "Objective value at epoch t=81 is 0.4789223845462914\n",
      "Objective value at epoch t=82 is 0.4789208653678786\n",
      "Objective value at epoch t=83 is 0.4789194963904172\n",
      "Objective value at epoch t=84 is 0.47891827102676715\n",
      "Objective value at epoch t=85 is 0.47891716453419725\n",
      "Objective value at epoch t=86 is 0.4789161658866437\n",
      "Objective value at epoch t=87 is 0.4789152725526165\n",
      "Objective value at epoch t=88 is 0.4789144664957118\n",
      "Objective value at epoch t=89 is 0.47891373934158094\n",
      "Objective value at epoch t=90 is 0.47891308646300895\n",
      "Objective value at epoch t=91 is 0.478912498668719\n",
      "Objective value at epoch t=92 is 0.4789119694628554\n",
      "Objective value at epoch t=93 is 0.4789114932141289\n",
      "Objective value at epoch t=94 is 0.4789110644127722\n",
      "Objective value at epoch t=95 is 0.47891067857733055\n",
      "Objective value at epoch t=96 is 0.47891033123384574\n",
      "Objective value at epoch t=97 is 0.47891001873630235\n",
      "Objective value at epoch t=98 is 0.47890973751984556\n",
      "Objective value at epoch t=99 is 0.47890948438270564\n"
     ]
    }
   ],
   "source": [
    "lam = 1E-6\n",
    "stepsize = 0.1\n",
    "w, objvals_sgd = sgd(x_train, y_train, lam, stepsize)"
   ]
  },
  {
   "cell_type": "markdown",
   "metadata": {},
   "source": [
    "# 4. Compare GD with SGD\n",
    "\n",
    "Plot objective function values against epochs."
   ]
  },
  {
   "cell_type": "code",
   "execution_count": 13,
   "metadata": {},
   "outputs": [
    {
     "name": "stderr",
     "output_type": "stream",
     "text": [
      "/Users/patrickmcelroy/opt/anaconda3/envs/tensorflow_env/lib/python3.6/site-packages/ipykernel_launcher.py:9: MatplotlibDeprecationWarning: Case-insensitive properties were deprecated in 3.3 and support will be removed two minor releases later\n",
      "  if __name__ == '__main__':\n",
      "/Users/patrickmcelroy/opt/anaconda3/envs/tensorflow_env/lib/python3.6/site-packages/ipykernel_launcher.py:10: MatplotlibDeprecationWarning: Case-insensitive properties were deprecated in 3.3 and support will be removed two minor releases later\n",
      "  # Remove the CWD from sys.path while we load stuff.\n",
      "/Users/patrickmcelroy/opt/anaconda3/envs/tensorflow_env/lib/python3.6/site-packages/ipykernel_launcher.py:11: MatplotlibDeprecationWarning: Case-insensitive properties were deprecated in 3.3 and support will be removed two minor releases later\n",
      "  # This is added back by InteractiveShellApp.init_path()\n",
      "/Users/patrickmcelroy/opt/anaconda3/envs/tensorflow_env/lib/python3.6/site-packages/ipykernel_launcher.py:12: MatplotlibDeprecationWarning: Case-insensitive properties were deprecated in 3.3 and support will be removed two minor releases later\n",
      "  if sys.path[0] == '':\n",
      "/Users/patrickmcelroy/opt/anaconda3/envs/tensorflow_env/lib/python3.6/site-packages/ipykernel_launcher.py:13: MatplotlibDeprecationWarning: Case-insensitive properties were deprecated in 3.3 and support will be removed two minor releases later\n",
      "  del sys.path[0]\n",
      "/Users/patrickmcelroy/opt/anaconda3/envs/tensorflow_env/lib/python3.6/site-packages/ipykernel_launcher.py:14: MatplotlibDeprecationWarning: Case-insensitive properties were deprecated in 3.3 and support will be removed two minor releases later\n",
      "  \n"
     ]
    },
    {
     "data": {
      "image/png": "[encoded data removed]",
      "text/plain": [
       "<Figure size 432x288 with 1 Axes>"
      ]
     },
     "metadata": {
      "needs_background": "light"
     },
     "output_type": "display_data"
    }
   ],
   "source": [
    "import matplotlib.pyplot as plt\n",
    "%matplotlib inline\n",
    "\n",
    "fig = plt.figure(figsize=(6, 4))\n",
    "\n",
    "epochs_gd = range(len(objvals_gd))\n",
    "epochs_sgd = range(len(objvals_sgd))\n",
    "\n",
    "line0, = plt.plot(epochs_gd, objvals_gd, '--b', LineWidth=4)\n",
    "line1, = plt.plot(epochs_sgd, objvals_sgd, '-r', LineWidth=2)\n",
    "plt.xlabel('Epochs', FontSize=20)\n",
    "plt.ylabel('Objective Value', FontSize=20)\n",
    "plt.xticks(FontSize=16)\n",
    "plt.yticks(FontSize=16)\n",
    "plt.legend([line0, line1], ['GD', 'SGD'], fontsize=20)\n",
    "plt.tight_layout()\n",
    "plt.show()\n",
    "fig.savefig('compare_gd_sgd.pdf', format='pdf', dpi=1200)"
   ]
  },
  {
   "cell_type": "markdown",
   "metadata": {},
   "source": [
    "# 5. Prediction"
   ]
  },
  {
   "cell_type": "code",
   "execution_count": 14,
   "metadata": {},
   "outputs": [],
   "source": [
    "# Predict class label\n",
    "# Inputs:\n",
    "#     w: d-by-1 matrix\n",
    "#     X: m-by-d matrix\n",
    "# Return:\n",
    "#     f: m-by-1 matrix, the predictions\n",
    "def predict(w, X):\n",
    "    xw = numpy.dot(X, w)\n",
    "    f = numpy.sign(xw)\n",
    "    return f"
   ]
  },
  {
   "cell_type": "code",
   "execution_count": 15,
   "metadata": {},
   "outputs": [
    {
     "name": "stdout",
     "output_type": "stream",
     "text": [
      "Training classification error is 0.2203125\n"
     ]
    }
   ],
   "source": [
    "# evaluate training error\n",
    "f_train = predict(w, x_train)\n",
    "diff = numpy.abs(f_train - y_train) / 2\n",
    "error_train = numpy.mean(diff)\n",
    "print('Training classification error is ' + str(error_train))"
   ]
  },
  {
   "cell_type": "code",
   "execution_count": 16,
   "metadata": {},
   "outputs": [
    {
     "name": "stdout",
     "output_type": "stream",
     "text": [
      "Test classification error is 0.203125\n"
     ]
    }
   ],
   "source": [
    "# evaluate test error\n",
    "f_test = predict(w, x_test)\n",
    "diff = numpy.abs(f_test - y_test) / 2\n",
    "error_test = numpy.mean(diff)\n",
    "print('Test classification error is ' + str(error_test))"
   ]
  },
  {
   "cell_type": "markdown",
   "metadata": {},
   "source": [
    "# 6. Mini-batch SGD (fill the code)\n",
    "\n"
   ]
  },
  {
   "cell_type": "markdown",
   "metadata": {},
   "source": [
    "## 6.1. Compute the objective $Q_I$ and its gradient using a batch of samples\n",
    "\n",
    "Define $Q_I (w) = \\frac{1}{b} \\sum_{i \\in I} \\log \\Big( 1 + \\exp \\big( - y_i x_i^T w \\big) \\Big) + \\frac{\\lambda}{2} \\| w \\|_2^2 $, where $I$ is a set containing $b$ indices randomly drawn from $\\{ 1, \\cdots , n \\}$ without replacement.\n",
    "\n",
    "The stochastic gradient at $w$ is $g_I = \\frac{\\partial Q_I }{ \\partial w} = \\frac{1}{b} \\sum_{i \\in I} \\frac{- y_i x_i }{1 + \\exp ( y_i x_i^T w)} + \\lambda w$."
   ]
  },
  {
   "cell_type": "code",
   "execution_count": 85,
   "metadata": {},
   "outputs": [],
   "source": [
    "# Calculate the objective Q_I and the gradient of Q_I\n",
    "# Inputs:\n",
    "#     w: d-by-1 matrix\n",
    "#     xi: b-by-d matrix\n",
    "#     yi: b-by-1 matrix\n",
    "#     lam: scalar, the regularization parameter\n",
    "#     b: integer, the batch size\n",
    "# Return:\n",
    "#     obj: scalar, the objective Q_i\n",
    "#     g: d-by-1 matrix, gradient of Q_i\n",
    "def mb_stochastic_objective_gradient(w, xi, yi, lam, b):\n",
    "    # Fill the function\n",
    "    # Follow the implementation of stochastic_objective_gradient\n",
    "    # Use matrix-vector multiplication; do not use FOR LOOP of vector-vector multiplications\n",
    "    yx = numpy.multiply(yi, xi) # b-by-d matrix\n",
    "    yxw = numpy.dot(yx, w) # b-by-1 matrix\n",
    "    \n",
    "    loss = numpy.mean(numpy.log(1 + numpy.exp(-yxw))) # scalar, was without numpy.sum and /b\n",
    "    reg = (lam / 2) * numpy.sum(w*w) # scalar\n",
    "    obj = (loss + reg) #.mean()\n",
    "    \n",
    "    g_loss = numpy.mean(-yx / (1 + numpy.exp(yxw)), axis=0).reshape(d,1) #.T\n",
    "    g = (g_loss + lam * w) #.mean(axis=1)\n",
    "    \n",
    "    return obj, g"
   ]
  },
  {
   "cell_type": "markdown",
   "metadata": {},
   "source": [
    "## 6.2. Implement mini-batch SGD\n",
    "\n",
    "Hints:\n",
    "1. In every epoch, randomly permute the $n$ samples (just like SGD).\n",
    "2. Each epoch has $\\frac{n}{b}$ iterations. In every iteration, use $b$ samples, and compute the gradient and objective using the ``mb_stochastic_objective_gradient`` function. In the next iteration, use the next $b$ samples, and so on.\n"
   ]
  },
  {
   "cell_type": "code",
   "execution_count": 86,
   "metadata": {},
   "outputs": [],
   "source": [
    "# Mini-Batch SGD for solving logistic regression\n",
    "# Inputs:\n",
    "#     x: n-by-d matrix\n",
    "#     y: n-by-1 matrix\n",
    "#     lam: scalar, the regularization parameter\n",
    "#     b: integer, the batch size\n",
    "#     stepsize: scalar\n",
    "#     max_epoch: integer, the maximal epochs\n",
    "#     w: d-by-1 matrix, initialization of w\n",
    "# Return:\n",
    "#     w: the solution\n",
    "#     objvals: record of each iteration's objective value\n",
    "def mb_sgd(x, y, lam, b, stepsize, max_epoch=100, w=None):\n",
    "    n, d = x.shape\n",
    "    objvals = numpy.zeros(max_epoch) # store the objective values\n",
    "    if w is None:\n",
    "        w = numpy.zeros((d, 1)) # zero initialization\n",
    "    \n",
    "    for t in range(max_epoch):\n",
    "        # randomly shuffle the samples\n",
    "        rand_indices = numpy.random.permutation(n)\n",
    "        x_rand = x[rand_indices, :] # n-by-d \n",
    "        y_rand = y[rand_indices, :] # n-by-1\n",
    "        \n",
    "        objval = 0 # accumulate the objective values\n",
    "        for i in range(0,n,b):\n",
    "            xi = x_rand[i:i+b, :] # b-by-d matrix\n",
    "            yi = y_rand[i:i+b, :] # b-by-1 matrix\n",
    "            obj, g = mb_stochastic_objective_gradient(w, xi, yi, lam, b)\n",
    "            objval += obj\n",
    "            w -= stepsize * g\n",
    "        \n",
    "        stepsize *= 0.9 # decrease step size\n",
    "        objval /= n/b\n",
    "        objvals[t] = objval\n",
    "        print('Objective value at epoch t=' + str(t) + ' is ' + str(objval))\n",
    "    \n",
    "    return w, objvals"
   ]
  },
  {
   "cell_type": "markdown",
   "metadata": {},
   "source": [
    "## 6.3. Run MB-SGD"
   ]
  },
  {
   "cell_type": "code",
   "execution_count": 87,
   "metadata": {},
   "outputs": [
    {
     "name": "stdout",
     "output_type": "stream",
     "text": [
      "Objective value at epoch t=0 is 0.5500571233246784\n",
      "Objective value at epoch t=1 is 0.4934146273050438\n",
      "Objective value at epoch t=2 is 0.4874527439978749\n",
      "Objective value at epoch t=3 is 0.48558117983150184\n",
      "Objective value at epoch t=4 is 0.4846938607986739\n",
      "Objective value at epoch t=5 is 0.48457911172484647\n",
      "Objective value at epoch t=6 is 0.48358033185212407\n",
      "Objective value at epoch t=7 is 0.4836406257355533\n",
      "Objective value at epoch t=8 is 0.4824239236332861\n",
      "Objective value at epoch t=9 is 0.4821411851379359\n",
      "Objective value at epoch t=10 is 0.4819124068822596\n",
      "Objective value at epoch t=11 is 0.4815544513697743\n",
      "Objective value at epoch t=12 is 0.481300906063206\n",
      "Objective value at epoch t=13 is 0.48097320845248825\n",
      "Objective value at epoch t=14 is 0.48075391136207407\n",
      "Objective value at epoch t=15 is 0.480742175542405\n",
      "Objective value at epoch t=16 is 0.4806278229415337\n",
      "Objective value at epoch t=17 is 0.48055008875560973\n",
      "Objective value at epoch t=18 is 0.4804496880944222\n",
      "Objective value at epoch t=19 is 0.4802091085748386\n",
      "Objective value at epoch t=20 is 0.48005022989099977\n",
      "Objective value at epoch t=21 is 0.4799580984442306\n",
      "Objective value at epoch t=22 is 0.479865966047028\n",
      "Objective value at epoch t=23 is 0.47968930659030384\n",
      "Objective value at epoch t=24 is 0.47967458146993014\n",
      "Objective value at epoch t=25 is 0.4795813004899377\n",
      "Objective value at epoch t=26 is 0.4795024623712318\n",
      "Objective value at epoch t=27 is 0.4794792173218566\n",
      "Objective value at epoch t=28 is 0.47939237353000336\n",
      "Objective value at epoch t=29 is 0.47934585671797214\n",
      "Objective value at epoch t=30 is 0.4792948075804147\n",
      "Objective value at epoch t=31 is 0.4792967927017703\n",
      "Objective value at epoch t=32 is 0.4792543900936228\n",
      "Objective value at epoch t=33 is 0.4792052857864063\n",
      "Objective value at epoch t=34 is 0.47915599096436223\n",
      "Objective value at epoch t=35 is 0.47915107140376334\n",
      "Objective value at epoch t=36 is 0.4791315155162197\n",
      "Objective value at epoch t=37 is 0.4791044799941111\n",
      "Objective value at epoch t=38 is 0.47906780520122727\n",
      "Objective value at epoch t=39 is 0.47906495949610717\n",
      "Objective value at epoch t=40 is 0.4790515096962877\n",
      "Objective value at epoch t=41 is 0.47904493044187274\n",
      "Objective value at epoch t=42 is 0.4790142313343081\n",
      "Objective value at epoch t=43 is 0.4790114812073719\n",
      "Objective value at epoch t=44 is 0.47900110946816615\n",
      "Objective value at epoch t=45 is 0.47900119315621437\n",
      "Objective value at epoch t=46 is 0.4789883385014764\n",
      "Objective value at epoch t=47 is 0.4789681928418806\n",
      "Objective value at epoch t=48 is 0.47896362274745724\n",
      "Objective value at epoch t=49 is 0.4789593544431264\n",
      "Objective value at epoch t=50 is 0.47895526074605177\n",
      "Objective value at epoch t=51 is 0.47895267483678416\n",
      "Objective value at epoch t=52 is 0.47894503615313716\n",
      "Objective value at epoch t=53 is 0.4789424681675537\n",
      "Objective value at epoch t=54 is 0.47894204072239654\n",
      "Objective value at epoch t=55 is 0.4789385293264636\n",
      "Objective value at epoch t=56 is 0.4789324169843009\n",
      "Objective value at epoch t=57 is 0.47893192489416875\n",
      "Objective value at epoch t=58 is 0.4789298934231801\n",
      "Objective value at epoch t=59 is 0.4789264129523974\n",
      "Objective value at epoch t=60 is 0.47892356373956674\n",
      "Objective value at epoch t=61 is 0.4789241757506889\n",
      "Objective value at epoch t=62 is 0.47892050463633795\n",
      "Objective value at epoch t=63 is 0.4789192901179229\n",
      "Objective value at epoch t=64 is 0.47891858790211594\n",
      "Objective value at epoch t=65 is 0.4789163001814395\n",
      "Objective value at epoch t=66 is 0.47891600082052904\n",
      "Objective value at epoch t=67 is 0.47891511627855915\n",
      "Objective value at epoch t=68 is 0.4789141229857058\n",
      "Objective value at epoch t=69 is 0.4789151098919702\n",
      "Objective value at epoch t=70 is 0.47891281558247345\n",
      "Objective value at epoch t=71 is 0.47891337176825666\n",
      "Objective value at epoch t=72 is 0.47891202039778874\n",
      "Objective value at epoch t=73 is 0.4789116259421746\n",
      "Objective value at epoch t=74 is 0.47891095875491574\n",
      "Objective value at epoch t=75 is 0.4789105092873009\n",
      "Objective value at epoch t=76 is 0.47891018781914657\n",
      "Objective value at epoch t=77 is 0.4789100336788813\n",
      "Objective value at epoch t=78 is 0.4789097937216219\n",
      "Objective value at epoch t=79 is 0.47890969248763204\n",
      "Objective value at epoch t=80 is 0.47890939753293604\n",
      "Objective value at epoch t=81 is 0.4789091503863753\n",
      "Objective value at epoch t=82 is 0.47890890951686577\n",
      "Objective value at epoch t=83 is 0.4789086552660743\n",
      "Objective value at epoch t=84 is 0.47890854480178807\n",
      "Objective value at epoch t=85 is 0.47890843386052795\n",
      "Objective value at epoch t=86 is 0.4789083271232676\n",
      "Objective value at epoch t=87 is 0.4789080994924877\n",
      "Objective value at epoch t=88 is 0.4789080516401875\n",
      "Objective value at epoch t=89 is 0.47890793307151885\n",
      "Objective value at epoch t=90 is 0.47890790410585327\n",
      "Objective value at epoch t=91 is 0.478907798756369\n",
      "Objective value at epoch t=92 is 0.4789077145632782\n",
      "Objective value at epoch t=93 is 0.47890769285453505\n",
      "Objective value at epoch t=94 is 0.4789076865345633\n",
      "Objective value at epoch t=95 is 0.47890766613980934\n",
      "Objective value at epoch t=96 is 0.47890756316781113\n",
      "Objective value at epoch t=97 is 0.4789075110436213\n",
      "Objective value at epoch t=98 is 0.47890749845124725\n",
      "Objective value at epoch t=99 is 0.47890744057234685\n"
     ]
    }
   ],
   "source": [
    "# MB-SGD with batch size b=8\n",
    "lam = 1E-6 # do not change\n",
    "b = 8 # do not change\n",
    "stepsize = 0.1 # you must tune this parameter\n",
    "w, objvals_mbsgd8 = mb_sgd(x_train, y_train, lam, b, stepsize)"
   ]
  },
  {
   "cell_type": "code",
   "execution_count": 88,
   "metadata": {},
   "outputs": [
    {
     "name": "stdout",
     "output_type": "stream",
     "text": [
      "Objective value at epoch t=0 is 0.6492870541795999\n",
      "Objective value at epoch t=1 is 0.586079226128713\n",
      "Objective value at epoch t=2 is 0.5554634105203174\n",
      "Objective value at epoch t=3 is 0.5375970396916063\n",
      "Objective value at epoch t=4 is 0.5261529642340141\n",
      "Objective value at epoch t=5 is 0.5182784800813288\n",
      "Objective value at epoch t=6 is 0.5129315391513016\n",
      "Objective value at epoch t=7 is 0.5083541640498556\n",
      "Objective value at epoch t=8 is 0.5052850762184605\n",
      "Objective value at epoch t=9 is 0.5027731585869588\n",
      "Objective value at epoch t=10 is 0.5006311080752807\n",
      "Objective value at epoch t=11 is 0.4989868087414612\n",
      "Objective value at epoch t=12 is 0.4977501651930871\n",
      "Objective value at epoch t=13 is 0.49652843507909916\n",
      "Objective value at epoch t=14 is 0.49557928381128996\n",
      "Objective value at epoch t=15 is 0.4947708752691332\n",
      "Objective value at epoch t=16 is 0.49404899113846357\n",
      "Objective value at epoch t=17 is 0.49345242540186385\n",
      "Objective value at epoch t=18 is 0.49294026260940627\n",
      "Objective value at epoch t=19 is 0.4924864770782082\n",
      "Objective value at epoch t=20 is 0.49211870331299\n",
      "Objective value at epoch t=21 is 0.49177776338506785\n",
      "Objective value at epoch t=22 is 0.4915059919870369\n",
      "Objective value at epoch t=23 is 0.49120682717061437\n",
      "Objective value at epoch t=24 is 0.4909954806009334\n",
      "Objective value at epoch t=25 is 0.49079766742737974\n",
      "Objective value at epoch t=26 is 0.49065260354284146\n",
      "Objective value at epoch t=27 is 0.49045982527416127\n",
      "Objective value at epoch t=28 is 0.49030882986991176\n",
      "Objective value at epoch t=29 is 0.4901951349354614\n",
      "Objective value at epoch t=30 is 0.49007625436549673\n",
      "Objective value at epoch t=31 is 0.48997320741503464\n",
      "Objective value at epoch t=32 is 0.48989071801831285\n",
      "Objective value at epoch t=33 is 0.4898112124926309\n",
      "Objective value at epoch t=34 is 0.48974453919411387\n",
      "Objective value at epoch t=35 is 0.4896813040177047\n",
      "Objective value at epoch t=36 is 0.4896283116347967\n",
      "Objective value at epoch t=37 is 0.4895712286151566\n",
      "Objective value at epoch t=38 is 0.489527085095974\n",
      "Objective value at epoch t=39 is 0.48949234897763316\n",
      "Objective value at epoch t=40 is 0.48944895030591484\n",
      "Objective value at epoch t=41 is 0.4894188186250451\n",
      "Objective value at epoch t=42 is 0.48939011242673064\n",
      "Objective value at epoch t=43 is 0.489364388905015\n",
      "Objective value at epoch t=44 is 0.48934204043845986\n",
      "Objective value at epoch t=45 is 0.48931748548674847\n",
      "Objective value at epoch t=46 is 0.48930167396298935\n",
      "Objective value at epoch t=47 is 0.48928139500371726\n",
      "Objective value at epoch t=48 is 0.4892717830132177\n",
      "Objective value at epoch t=49 is 0.48925455556345687\n",
      "Objective value at epoch t=50 is 0.48924176196356317\n",
      "Objective value at epoch t=51 is 0.4892318981373417\n",
      "Objective value at epoch t=52 is 0.48922060803789036\n",
      "Objective value at epoch t=53 is 0.48921350083269016\n",
      "Objective value at epoch t=54 is 0.4892029186719328\n",
      "Objective value at epoch t=55 is 0.48919607578104884\n",
      "Objective value at epoch t=56 is 0.4891901180419744\n",
      "Objective value at epoch t=57 is 0.4891843752708641\n",
      "Objective value at epoch t=58 is 0.4891794096850151\n",
      "Objective value at epoch t=59 is 0.4891744268225426\n",
      "Objective value at epoch t=60 is 0.48917022078330596\n",
      "Objective value at epoch t=61 is 0.48916598118036203\n",
      "Objective value at epoch t=62 is 0.4891623541719424\n",
      "Objective value at epoch t=63 is 0.4891600439639311\n",
      "Objective value at epoch t=64 is 0.4891569632435506\n",
      "Objective value at epoch t=65 is 0.48915448942179324\n",
      "Objective value at epoch t=66 is 0.48915200315205976\n",
      "Objective value at epoch t=67 is 0.4891500153330403\n",
      "Objective value at epoch t=68 is 0.4891482612101462\n",
      "Objective value at epoch t=69 is 0.4891463984855716\n",
      "Objective value at epoch t=70 is 0.48914488743002016\n",
      "Objective value at epoch t=71 is 0.4891438591234202\n",
      "Objective value at epoch t=72 is 0.48914241597938435\n",
      "Objective value at epoch t=73 is 0.48914145229500783\n",
      "Objective value at epoch t=74 is 0.48914045093902586\n",
      "Objective value at epoch t=75 is 0.48913951619592977\n",
      "Objective value at epoch t=76 is 0.4891387699958291\n",
      "Objective value at epoch t=77 is 0.48913805877520594\n",
      "Objective value at epoch t=78 is 0.4891374542365141\n",
      "Objective value at epoch t=79 is 0.4891368436179536\n",
      "Objective value at epoch t=80 is 0.48913627775445245\n",
      "Objective value at epoch t=81 is 0.48913581252417987\n",
      "Objective value at epoch t=82 is 0.4891354177759936\n",
      "Objective value at epoch t=83 is 0.4891349969544869\n",
      "Objective value at epoch t=84 is 0.48913465651337795\n",
      "Objective value at epoch t=85 is 0.4891343962487301\n",
      "Objective value at epoch t=86 is 0.48913410010654595\n",
      "Objective value at epoch t=87 is 0.4891338374466355\n",
      "Objective value at epoch t=88 is 0.4891336188601524\n",
      "Objective value at epoch t=89 is 0.489133430018662\n",
      "Objective value at epoch t=90 is 0.48913327475893453\n",
      "Objective value at epoch t=91 is 0.48913307829976577\n",
      "Objective value at epoch t=92 is 0.4891329649771518\n",
      "Objective value at epoch t=93 is 0.48913279729956266\n",
      "Objective value at epoch t=94 is 0.4891326830533407\n",
      "Objective value at epoch t=95 is 0.4891325802054854\n",
      "Objective value at epoch t=96 is 0.48913248795862607\n",
      "Objective value at epoch t=97 is 0.4891324224208259\n",
      "Objective value at epoch t=98 is 0.48913232062071427\n",
      "Objective value at epoch t=99 is 0.48913225633639834\n"
     ]
    }
   ],
   "source": [
    "# MB-SGD with batch size b=64\n",
    "lam = 1E-6 # do not change\n",
    "b = 64 # do not change\n",
    "stepsize = 0.1 # you must tune this parameter\n",
    "\n",
    "w, objvals_mbsgd64 = mb_sgd(x_train, y_train, lam, b, stepsize)"
   ]
  },
  {
   "cell_type": "markdown",
   "metadata": {},
   "source": [
    "# 7. Plot and compare GD, SGD, and MB-SGD"
   ]
  },
  {
   "cell_type": "markdown",
   "metadata": {},
   "source": [
    "You are required to compare the following algorithms:\n",
    "\n",
    "- Gradient descent (GD)\n",
    "\n",
    "- SGD\n",
    "\n",
    "- MB-SGD with b=8\n",
    "\n",
    "- MB-SGD with b=64\n",
    "\n",
    "Follow the code in Section 4 to plot ```objective function value``` against ```epochs```. There should be four curves in the plot; each curve corresponds to one algorithm."
   ]
  },
  {
   "cell_type": "markdown",
   "metadata": {},
   "source": [
    "Hint: Logistic regression with $\\ell_2$-norm regularization is a strongly convex optimization problem. All the algorithms will converge to the same solution. **In the end, the ``objective function value`` of the 4 algorithms will be the same. If not the same, your implementation must be wrong. Do NOT submit wrong code and wrong result!**"
   ]
  },
  {
   "cell_type": "code",
   "execution_count": 89,
   "metadata": {},
   "outputs": [
    {
     "name": "stderr",
     "output_type": "stream",
     "text": [
      "/Users/patrickmcelroy/opt/anaconda3/envs/tensorflow_env/lib/python3.6/site-packages/ipykernel_launcher.py:12: MatplotlibDeprecationWarning: Case-insensitive properties were deprecated in 3.3 and support will be removed two minor releases later\n",
      "  if sys.path[0] == '':\n",
      "/Users/patrickmcelroy/opt/anaconda3/envs/tensorflow_env/lib/python3.6/site-packages/ipykernel_launcher.py:13: MatplotlibDeprecationWarning: Case-insensitive properties were deprecated in 3.3 and support will be removed two minor releases later\n",
      "  del sys.path[0]\n",
      "/Users/patrickmcelroy/opt/anaconda3/envs/tensorflow_env/lib/python3.6/site-packages/ipykernel_launcher.py:14: MatplotlibDeprecationWarning: Case-insensitive properties were deprecated in 3.3 and support will be removed two minor releases later\n",
      "  \n",
      "/Users/patrickmcelroy/opt/anaconda3/envs/tensorflow_env/lib/python3.6/site-packages/ipykernel_launcher.py:15: MatplotlibDeprecationWarning: Case-insensitive properties were deprecated in 3.3 and support will be removed two minor releases later\n",
      "  from ipykernel import kernelapp as app\n",
      "/Users/patrickmcelroy/opt/anaconda3/envs/tensorflow_env/lib/python3.6/site-packages/ipykernel_launcher.py:16: MatplotlibDeprecationWarning: Case-insensitive properties were deprecated in 3.3 and support will be removed two minor releases later\n",
      "  app.launch_new_instance()\n",
      "/Users/patrickmcelroy/opt/anaconda3/envs/tensorflow_env/lib/python3.6/site-packages/ipykernel_launcher.py:17: MatplotlibDeprecationWarning: Case-insensitive properties were deprecated in 3.3 and support will be removed two minor releases later\n",
      "/Users/patrickmcelroy/opt/anaconda3/envs/tensorflow_env/lib/python3.6/site-packages/ipykernel_launcher.py:18: MatplotlibDeprecationWarning: Case-insensitive properties were deprecated in 3.3 and support will be removed two minor releases later\n",
      "/Users/patrickmcelroy/opt/anaconda3/envs/tensorflow_env/lib/python3.6/site-packages/ipykernel_launcher.py:19: MatplotlibDeprecationWarning: Case-insensitive properties were deprecated in 3.3 and support will be removed two minor releases later\n"
     ]
    },
    {
     "data": {
      "image/png": "[encoded data removed]",
      "text/plain": [
       "<Figure size 576x432 with 1 Axes>"
      ]
     },
     "metadata": {
      "needs_background": "light"
     },
     "output_type": "display_data"
    }
   ],
   "source": [
    "# plot the 4 curves:\n",
    "import matplotlib.pyplot as plt\n",
    "%matplotlib inline\n",
    "\n",
    "fig = plt.figure(figsize=(8, 6))\n",
    "\n",
    "epochs_gd = range(len(objvals_gd))\n",
    "epochs_sgd = range(len(objvals_sgd))\n",
    "epochs_mbsgd8 = range(len(objvals_mbsgd8))\n",
    "epochs_mbsgd64 = range(len(objvals_mbsgd64))\n",
    "\n",
    "line0, = plt.plot(epochs_gd, objvals_gd, '--b', LineWidth=4)\n",
    "line1, = plt.plot(epochs_sgd, objvals_sgd, '-r', LineWidth=2)\n",
    "line2, = plt.plot(epochs_mbsgd8, objvals_mbsgd8, '-g', LineWidth=2)\n",
    "line3, = plt.plot(epochs_mbsgd64, objvals_mbsgd64, '-m', LineWidth=2)\n",
    "plt.xlabel('Epochs', FontSize=20)\n",
    "plt.ylabel('Objective Value', FontSize=20)\n",
    "plt.xticks(FontSize=16)\n",
    "plt.yticks(FontSize=16)\n",
    "plt.legend([line0, line1, line2, line3], ['GD', 'SGD', 'MBSGD8', 'MBSGD64'], fontsize=16)\n",
    "plt.tight_layout()\n",
    "plt.show()\n",
    "#fig.savefig('compare_gd_sgd.pdf', format='pdf', dpi=1200)"
   ]
  },
  {
   "cell_type": "markdown",
   "metadata": {},
   "source": []
  }
 ],
 "metadata": {
  "kernelspec": {
   "display_name": "Python 3",
   "language": "python",
   "name": "python3"
  },
  "language_info": {
   "codemirror_mode": {
    "name": "ipython",
    "version": 3
   },
   "file_extension": ".py",
   "mimetype": "text/x-python",
   "name": "python",
   "nbconvert_exporter": "python",
   "pygments_lexer": "ipython3",
   "version": "3.6.13"
  }
 },
 "nbformat": 4,
 "nbformat_minor": 2
}
